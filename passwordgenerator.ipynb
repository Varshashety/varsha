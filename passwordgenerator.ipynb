{
 "cells": [
  {
   "cell_type": "code",
   "execution_count": 2,
   "id": "47bf390b-3f26-4264-bc26-fb252323d773",
   "metadata": {},
   "outputs": [
    {
     "name": "stdout",
     "output_type": "stream",
     "text": [
      "Welcome to the Password Generator!\n"
     ]
    },
    {
     "name": "stdin",
     "output_type": "stream",
     "text": [
      "How many passwords would you like to generate= 8\n",
      "Enter the length of each password: 6\n"
     ]
    },
    {
     "name": "stdout",
     "output_type": "stream",
     "text": [
      "\n",
      "Generating passwords...\n",
      "\n",
      "Password 1: Qp&!\\A\n",
      "Password 2: dz'(3+\n",
      "Password 3: {*Y}g#\n",
      "Password 4: sL:JLm\n",
      "Password 5: ,$'8(8\n",
      "Password 6: sF4$fZ\n",
      "Password 7: ,?}TWI\n",
      "Password 8: c5n3/*\n"
     ]
    }
   ],
   "source": [
    "import random\n",
    "import string\n",
    "def generate_password(length):\n",
    "    c= string.ascii_letters + string.digits + string.punctuation\n",
    "    password = ''.join(random.choice(c) for _ in range(length))\n",
    "    return password\n",
    "def main():\n",
    "    print(\"Welcome to the Password Generator!\")\n",
    "    while True:\n",
    "        try:\n",
    "            np= int(input(\"How many passwords would you like to generate=\"))\n",
    "            pl= int(input(\"Enter the length of each password:\"))\n",
    "            break\n",
    "        except ValueError:\n",
    "            print(\"Please enter valid numbers.\")\n",
    "    print(\"\\nGenerating passwords...\\n\")\n",
    "    for i in range(np):\n",
    "        password = generate_password(pl)\n",
    "        print(f\"Password {i+1}: {password}\")\n",
    "if __name__ == \"__main__\":\n",
    "    main()"
   ]
  },
  {
   "cell_type": "code",
   "execution_count": null,
   "id": "b9974d2c-3d5c-4816-baf8-864c8b79fd5e",
   "metadata": {},
   "outputs": [],
   "source": []
  }
 ],
 "metadata": {
  "kernelspec": {
   "display_name": "Python 3 (ipykernel)",
   "language": "python",
   "name": "python3"
  },
  "language_info": {
   "codemirror_mode": {
    "name": "ipython",
    "version": 3
   },
   "file_extension": ".py",
   "mimetype": "text/x-python",
   "name": "python",
   "nbconvert_exporter": "python",
   "pygments_lexer": "ipython3",
   "version": "3.11.5"
  }
 },
 "nbformat": 4,
 "nbformat_minor": 5
}
